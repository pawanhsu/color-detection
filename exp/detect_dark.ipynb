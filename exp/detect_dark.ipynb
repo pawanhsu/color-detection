{
 "cells": [
  {
   "cell_type": "code",
   "execution_count": 3,
   "metadata": {
    "collapsed": false
   },
   "outputs": [
    {
     "ename": "NameError",
     "evalue": "name 'ROOT' is not defined",
     "output_type": "error",
     "traceback": [
      "\u001b[0;31m---------------------------------------------------------------------------\u001b[0m",
      "\u001b[0;31mNameError\u001b[0m                                 Traceback (most recent call last)",
      "\u001b[0;32m<ipython-input-3-42b9ae826078>\u001b[0m in \u001b[0;36m<module>\u001b[0;34m()\u001b[0m\n\u001b[1;32m      5\u001b[0m \u001b[0mtest_dark_label\u001b[0m \u001b[0;34m=\u001b[0m \u001b[0;34m[\u001b[0m\u001b[0;34m]\u001b[0m\u001b[0;34m\u001b[0m\u001b[0m\n\u001b[1;32m      6\u001b[0m \u001b[0;34m\u001b[0m\u001b[0m\n\u001b[0;32m----> 7\u001b[0;31m \u001b[0;32mfor\u001b[0m \u001b[0mroot\u001b[0m\u001b[0;34m,\u001b[0m\u001b[0msubdir\u001b[0m\u001b[0;34m,\u001b[0m\u001b[0mfiles\u001b[0m \u001b[0;32min\u001b[0m \u001b[0mos\u001b[0m\u001b[0;34m.\u001b[0m\u001b[0mwalk\u001b[0m\u001b[0;34m(\u001b[0m\u001b[0mROOT\u001b[0m\u001b[0;34m)\u001b[0m\u001b[0;34m:\u001b[0m\u001b[0;34m\u001b[0m\u001b[0m\n\u001b[0m\u001b[1;32m      8\u001b[0m     \u001b[0;31m#print root\u001b[0m\u001b[0;34m\u001b[0m\u001b[0;34m\u001b[0m\u001b[0m\n\u001b[1;32m      9\u001b[0m     \u001b[0;32mif\u001b[0m\u001b[0;34m(\u001b[0m\u001b[0mlen\u001b[0m\u001b[0;34m(\u001b[0m\u001b[0mroot\u001b[0m\u001b[0;34m.\u001b[0m\u001b[0msplit\u001b[0m\u001b[0;34m(\u001b[0m\u001b[0;34m\"/\"\u001b[0m\u001b[0;34m)\u001b[0m\u001b[0;34m)\u001b[0m\u001b[0;34m>\u001b[0m\u001b[0;36m9\u001b[0m\u001b[0;34m)\u001b[0m\u001b[0;34m:\u001b[0m\u001b[0;34m\u001b[0m\u001b[0m\n",
      "\u001b[0;31mNameError\u001b[0m: name 'ROOT' is not defined"
     ]
    }
   ],
   "source": [
    "import os\n",
    "import cv2\n",
    "\n",
    "test_dark_file = []\n",
    "test_dark_label = []\n",
    "\n",
    "for root,subdir,files in os.walk(ROOT):\n",
    "    #print root\n",
    "    if(len(root.split(\"/\"))>9):\n",
    "        if (root.split(\"/\")[9].split(\"_\")[0]=='12' or root.split(\"/\")[9].split(\"_\")[0]=='21'):\n",
    "            for fname in files:\n",
    "                if(len(os.path.splitext(root)[0].split(\"_\"))==3):\n",
    "                    test_dark_file.append(os.path.join(root,fname))\n",
    "                    test_dark_label.append(os.path.splitext(root)[0].split(\"_\")[1].split(\"/\")[1])\n",
    "\n",
    "\n",
    "def detectDark(img):\n",
    "    hsv = cv2.cvtColor(img,cv2.COLOR_BGR2HSV)\n",
    "    hei,wid,chan = hsv.shape\n",
    "    \n",
    "    roi1 = 0.15\n",
    "    roi2 = 0.85\n",
    "    roiX = int(wid*roi1)\n",
    "    roiXend = int(wid*roi2)\n",
    "    roiY = int(hei*roi1)\n",
    "    roiYend = int(hei*roi2)\n",
    "    frame = hsv[roiY : roiYend, roiX : roiXend]\n",
    "    \n",
    "    h,s,v = cv2.split(hsv)\n",
    "    h2,s2,v2 = cv2.split(frame)\n",
    "    return ((np.sum(v)-np.sum(v2))/(hei*wid*255*0.51)) \n",
    "  \n",
    "  \n",
    "night_ratio_list = []\n",
    "light_ratio_list = []\n",
    "            \n",
    "img_cnt = len(test_dark_file)\n",
    "            \n",
    "for i in range(0,img_cnt):\n",
    "    name = test_dark_file[i]\n",
    "    img = cv2.imread(name)\n",
    "    if(test_dark_label[i] == '21'):\n",
    "        night_ratio_list.append(detectDark(img))\n",
    "    else:\n",
    "        light_ratio_list.append(detectDark(img))\n",
    "\n",
    "axes = plt.gca()\n",
    "plt.hist(night_ratio_list)\n",
    "plt.hist(light_ratio_list)\n",
    "\n",
    "plt.show()"
   ]
  },
  {
   "cell_type": "code",
   "execution_count": null,
   "metadata": {
    "collapsed": true
   },
   "outputs": [],
   "source": []
  }
 ],
 "metadata": {
  "kernelspec": {
   "display_name": "Python 2",
   "language": "python",
   "name": "python2"
  },
  "language_info": {
   "codemirror_mode": {
    "name": "ipython",
    "version": 2
   },
   "file_extension": ".py",
   "mimetype": "text/x-python",
   "name": "python",
   "nbconvert_exporter": "python",
   "pygments_lexer": "ipython2",
   "version": "2.7.13"
  }
 },
 "nbformat": 4,
 "nbformat_minor": 2
}
