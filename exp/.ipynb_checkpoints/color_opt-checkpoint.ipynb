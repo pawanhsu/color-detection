{
 "cells": [
  {
   "cell_type": "code",
   "execution_count": 12,
   "metadata": {
    "collapsed": false
   },
   "outputs": [],
   "source": [
    "from search_color import *"
   ]
  },
  {
   "cell_type": "code",
   "execution_count": 40,
   "metadata": {
    "collapsed": false
   },
   "outputs": [
    {
     "name": "stdout",
     "output_type": "stream",
     "text": [
      "{'x': 10}\n",
      "10\n"
     ]
    }
   ],
   "source": [
    "import pickle\n",
    "import time\n",
    "from hyperopt import fmin, tpe, hp, STATUS_OK, Trials\n",
    "from pprint import pprint\n",
    "from hyperopt import hp\n",
    "import hyperopt.pyll.stochastic\n",
    "from ../\n",
    "\n",
    "\n",
    "# minimize the objective over the space\n",
    "from hyperopt import fmin, tpe\n",
    "import hyperopt\n",
    "\n",
    "# define an objective function\n",
    "def objective(args):\n",
    "    x = args\n",
    "    return {\n",
    "        'loss':-x**2,\n",
    "        'status': STATUS_OK,\n",
    "        'eval_time':time.time()\n",
    "    }\n",
    "\n",
    "# define a search space\n",
    "space = [hp.uniform('red_h_lower',120,160),hp.uniform('red_h_upper',170,220),\n",
    "         hp.uniform('red_s_lower', 20,100),hp.uniform('red_v_lower',30,100)\n",
    "        ]\n",
    "\n",
    "\n",
    "\n",
    "\n",
    "\n",
    "trials = Trials()\n",
    "best = fmin(objective, space, algo=tpe.suggest, max_evals=5,trials= trials)\n",
    "\n",
    "\n",
    "print best\n",
    "# -> {'a': 1, 'c2': 0.01420615366247227}\n",
    "print hyperopt.space_eval(space, best)\n",
    "# -> ('case 2', 0.01420615366247227}"
   ]
  },
  {
   "cell_type": "code",
   "execution_count": null,
   "metadata": {
    "collapsed": true
   },
   "outputs": [],
   "source": []
  },
  {
   "cell_type": "code",
   "execution_count": null,
   "metadata": {
    "collapsed": true
   },
   "outputs": [],
   "source": []
  }
 ],
 "metadata": {
  "kernelspec": {
   "display_name": "Python 2",
   "language": "python",
   "name": "python2"
  },
  "language_info": {
   "codemirror_mode": {
    "name": "ipython",
    "version": 2
   },
   "file_extension": ".py",
   "mimetype": "text/x-python",
   "name": "python",
   "nbconvert_exporter": "python",
   "pygments_lexer": "ipython2",
   "version": "2.7.13"
  }
 },
 "nbformat": 4,
 "nbformat_minor": 2
}
