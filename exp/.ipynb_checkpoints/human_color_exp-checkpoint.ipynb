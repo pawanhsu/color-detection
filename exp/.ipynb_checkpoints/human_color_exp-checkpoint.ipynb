{
 "cells": [
  {
   "cell_type": "code",
   "execution_count": 1,
   "metadata": {
    "collapsed": false
   },
   "outputs": [
    {
     "ename": "IOError",
     "evalue": "[Errno 2] No such file or directory: 'profile/car_color_profile.json'",
     "output_type": "error",
     "traceback": [
      "\u001b[0;31m---------------------------------------------------------------------------\u001b[0m",
      "\u001b[0;31mIOError\u001b[0m                                   Traceback (most recent call last)",
      "\u001b[0;32m<ipython-input-1-20c36ecc3baf>\u001b[0m in \u001b[0;36m<module>\u001b[0;34m()\u001b[0m\n\u001b[1;32m      4\u001b[0m \u001b[0;32mfrom\u001b[0m \u001b[0mversion\u001b[0m\u001b[0;34m.\u001b[0m\u001b[0mv_1\u001b[0m\u001b[0;34m.\u001b[0m\u001b[0mColor_Search\u001b[0m \u001b[0;32mimport\u001b[0m \u001b[0;34m*\u001b[0m\u001b[0;34m\u001b[0m\u001b[0m\n\u001b[1;32m      5\u001b[0m \u001b[0;32mfrom\u001b[0m \u001b[0msearch_color\u001b[0m \u001b[0;32mimport\u001b[0m \u001b[0;34m*\u001b[0m\u001b[0;34m\u001b[0m\u001b[0m\n\u001b[0;32m----> 6\u001b[0;31m \u001b[0;32mfrom\u001b[0m \u001b[0mcolorEval\u001b[0m \u001b[0;32mimport\u001b[0m \u001b[0;34m*\u001b[0m\u001b[0;34m\u001b[0m\u001b[0m\n\u001b[0m\u001b[1;32m      7\u001b[0m \u001b[0;34m\u001b[0m\u001b[0m\n\u001b[1;32m      8\u001b[0m \u001b[0;31m# import the necessary packages\u001b[0m\u001b[0;34m\u001b[0m\u001b[0;34m\u001b[0m\u001b[0m\n",
      "\u001b[0;32m/home/max/ironyun_proj/color-detection/colorEval.py\u001b[0m in \u001b[0;36m<module>\u001b[0;34m()\u001b[0m\n\u001b[1;32m     15\u001b[0m \u001b[0;34m\u001b[0m\u001b[0m\n\u001b[1;32m     16\u001b[0m \u001b[0;34m\u001b[0m\u001b[0m\n\u001b[0;32m---> 17\u001b[0;31m \u001b[0;32mdef\u001b[0m \u001b[0mcolorEval\u001b[0m\u001b[0;34m(\u001b[0m\u001b[0mbase_folder\u001b[0m\u001b[0;34m,\u001b[0m \u001b[0mdetect_type\u001b[0m \u001b[0;34m=\u001b[0m \u001b[0;34m'car'\u001b[0m\u001b[0;34m,\u001b[0m \u001b[0mcolor2Eval\u001b[0m \u001b[0;34m=\u001b[0m \u001b[0;34m[\u001b[0m\u001b[0;34m'all'\u001b[0m\u001b[0;34m]\u001b[0m\u001b[0;34m,\u001b[0m\u001b[0msearch_color\u001b[0m \u001b[0;34m=\u001b[0m \u001b[0mSearch_Color\u001b[0m\u001b[0;34m(\u001b[0m\u001b[0;34m)\u001b[0m\u001b[0;34m)\u001b[0m\u001b[0;34m:\u001b[0m\u001b[0;34m\u001b[0m\u001b[0m\n\u001b[0m\u001b[1;32m     18\u001b[0m \u001b[0;34m\u001b[0m\u001b[0m\n\u001b[1;32m     19\u001b[0m         \u001b[0mcolor2test\u001b[0m \u001b[0;34m=\u001b[0m \u001b[0;34m[\u001b[0m\u001b[0;34m]\u001b[0m\u001b[0;34m\u001b[0m\u001b[0m\n",
      "\u001b[0;32m/home/max/ironyun_proj/color-detection/search_color.py\u001b[0m in \u001b[0;36m__init__\u001b[0;34m(self)\u001b[0m\n\u001b[1;32m     21\u001b[0m         \u001b[0mself\u001b[0m\u001b[0;34m.\u001b[0m\u001b[0misNight\u001b[0m     \u001b[0;34m=\u001b[0m \u001b[0mTrue\u001b[0m\u001b[0;34m\u001b[0m\u001b[0m\n\u001b[1;32m     22\u001b[0m         \u001b[0mself\u001b[0m\u001b[0;34m.\u001b[0m\u001b[0mdetect_type\u001b[0m \u001b[0;34m=\u001b[0m \u001b[0;34m'car'\u001b[0m \u001b[0;31m#default car, option: person, human face etc...\u001b[0m\u001b[0;34m\u001b[0m\u001b[0m\n\u001b[0;32m---> 23\u001b[0;31m         \u001b[0;32mwith\u001b[0m \u001b[0mopen\u001b[0m\u001b[0;34m(\u001b[0m\u001b[0;34m'profile/car_color_profile.json'\u001b[0m\u001b[0;34m)\u001b[0m \u001b[0;32mas\u001b[0m \u001b[0mprofile\u001b[0m\u001b[0;34m:\u001b[0m\u001b[0;34m\u001b[0m\u001b[0m\n\u001b[0m\u001b[1;32m     24\u001b[0m             \u001b[0mself\u001b[0m\u001b[0;34m.\u001b[0m\u001b[0mcar_profile\u001b[0m \u001b[0;34m=\u001b[0m \u001b[0mjson\u001b[0m\u001b[0;34m.\u001b[0m\u001b[0mload\u001b[0m\u001b[0;34m(\u001b[0m\u001b[0mprofile\u001b[0m\u001b[0;34m)\u001b[0m\u001b[0;34m\u001b[0m\u001b[0m\n\u001b[1;32m     25\u001b[0m         \u001b[0;32mwith\u001b[0m \u001b[0mopen\u001b[0m\u001b[0;34m(\u001b[0m\u001b[0;34m'profile/person_color_profile.json'\u001b[0m\u001b[0;34m)\u001b[0m \u001b[0;32mas\u001b[0m \u001b[0mprofile\u001b[0m\u001b[0;34m:\u001b[0m\u001b[0;34m\u001b[0m\u001b[0m\n",
      "\u001b[0;31mIOError\u001b[0m: [Errno 2] No such file or directory: 'profile/car_color_profile.json'"
     ]
    }
   ],
   "source": [
    "import sys\n",
    "sys.path.insert(0,'/home/max/ironyun_proj/color-detection')\n",
    "\n",
    "from version.v_1.Color_Search import *\n",
    "from search_color import *\n",
    "from colorEval import *\n",
    "# import the necessary packages\n",
    "import numpy as np\n",
    "import argparse\n",
    "import cv2\n",
    "import matplotlib.pyplot as plt\n",
    "%matplotlib inline\n",
    "import sys, os\n",
    "import time"
   ]
  },
  {
   "cell_type": "markdown",
   "metadata": {},
   "source": [
    "## Visualize human upper part:"
   ]
  },
  {
   "cell_type": "code",
   "execution_count": null,
   "metadata": {
    "collapsed": false
   },
   "outputs": [],
   "source": [
    "#aspect ratio exp\n",
    "def show_human_upper(im):\n",
    "    b,g,r = cv2.split(im)       # get b,g,r\n",
    "    im = cv2.merge([r,g,b])     # switch it to rgb\n",
    "\n",
    "    src_height, src_width, src_channels = im.shape\n",
    "\n",
    "    cv2.rectangle(im,(1,int(src_height*0.1)),(src_width-1,int(src_height*0.1)+int(src_height*0.4)),(0,255,0),2)\n",
    "    cv2.rectangle(im,(1,int(src_height*0.2)+int(src_height*0.4)),(src_width-1,int(src_height*0.9)),(255,0,0),2)\n",
    "\n",
    "    \n",
    "    \n",
    "    roix_upper = int(src_width * 0.25)\n",
    "    roix_upper_width = int(src_width * 0.5)\n",
    "    roiy_upper = int(src_height * 0.15)\n",
    "    roiy_upper_width = int(src_height * 0.35)\n",
    "    \n",
    "    #im = im[ roiy_upper: roiy_upper + roiy_upper_width,roix_upper: roix_upper + roix_upper_width,]\n",
    "    \n",
    "    \n",
    "    plt.figure()\n",
    "    plt.imshow(im)\n",
    "\n",
    "\n",
    "\n",
    "\n"
   ]
  },
  {
   "cell_type": "code",
   "execution_count": null,
   "metadata": {
    "collapsed": true
   },
   "outputs": [],
   "source": [
    "%matplotlib inline\n",
    "\n",
    "target_folder = 'color_data/human/upper3/'\n",
    "for idx, color in enumerate(['blue']):\n",
    "    for file in os.listdir(target_folder + color):\n",
    "        if(file != os.path.basename(\"__file__\")):\n",
    "            if(file[-3:] == 'jpg'):\n",
    "                frame_in = cv2.imread(target_folder + color + '/' + file)\n",
    "                b,g,r = cv2.split(frame_in)       # get b,g,r\n",
    "                frame_in = cv2.merge([r,g,b])     # switch it to rgb\n",
    "                frame_in = crop_aspect_ratio(frame_in,True)\n",
    "                src_height, src_width, src_channels = frame_in.shape\n",
    "                plt.figure()\n",
    "                plt.imshow(frame_in)"
   ]
  }
 ],
 "metadata": {
  "kernelspec": {
   "display_name": "Python 2",
   "language": "python",
   "name": "python2"
  },
  "language_info": {
   "codemirror_mode": {
    "name": "ipython",
    "version": 2
   },
   "file_extension": ".py",
   "mimetype": "text/x-python",
   "name": "python",
   "nbconvert_exporter": "python",
   "pygments_lexer": "ipython2",
   "version": "2.7.13"
  }
 },
 "nbformat": 4,
 "nbformat_minor": 2
}
